{
  "metadata": {
    "kernelspec": {
      "name": "python",
      "display_name": "Pyolite",
      "language": "python"
    },
    "language_info": {
      "codemirror_mode": {
        "name": "python",
        "version": 3
      },
      "file_extension": ".py",
      "mimetype": "text/x-python",
      "name": "python",
      "nbconvert_exporter": "python",
      "pygments_lexer": "ipython3",
      "version": "3.8"
    }
  },
  "nbformat_minor": 4,
  "nbformat": 4,
  "cells": [
    {
      "cell_type": "markdown",
      "source": "<center>\n    <img src=\"https://s3-api.us-geo.objectstorage.softlayer.net/cf-courses-data/CognitiveClass/Logos/organization_logo/organization_logo.png\" width=\"300\" alt=\"cognitiveclass.ai logo\"  />\n</center>\n",
      "metadata": {}
    },
    {
      "cell_type": "markdown",
      "source": "#### Add your code below following the instructions given in the course\n",
      "metadata": {}
    },
    {
      "cell_type": "markdown",
      "source": "# My Jupyter Notebook on IBM Watson Studio",
      "metadata": {}
    },
    {
      "cell_type": "markdown",
      "source": "Name : **Omar Quishawi** \n\noccupation : undergraduate at PSUT \n",
      "metadata": {}
    },
    {
      "cell_type": "markdown",
      "source": "*I am instrested in data science because every thing around us generates data , so we can make a great use of these data*",
      "metadata": {}
    },
    {
      "cell_type": "markdown",
      "source": "### My code below will print my name and my birthyear",
      "metadata": {}
    },
    {
      "cell_type": "code",
      "source": "print(\"Omar Quishawi , 2002\")",
      "metadata": {
        "trusted": true
      },
      "execution_count": 1,
      "outputs": [
        {
          "name": "stdout",
          "text": "Omar Quishawi , 2002\n",
          "output_type": "stream"
        }
      ]
    },
    {
      "cell_type": "markdown",
      "source": "id | name | age\n--- | --- | ---\n0 | omar | 20\n1 | Mohammed | 21\n\nI love ..\n\n---\n\nData Science \n\n---\n\nand\n\n---\n\nMachine Learning\n\n\n[Google](https://www.google.com)",
      "metadata": {}
    },
    {
      "cell_type": "code",
      "source": "",
      "metadata": {},
      "execution_count": null,
      "outputs": []
    }
  ]
}